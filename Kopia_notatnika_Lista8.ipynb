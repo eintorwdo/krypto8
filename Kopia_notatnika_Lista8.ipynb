{
  "nbformat": 4,
  "nbformat_minor": 0,
  "metadata": {
    "kernelspec": {
      "display_name": "Python 3",
      "language": "python",
      "name": "python3"
    },
    "language_info": {
      "codemirror_mode": {
        "name": "ipython",
        "version": 3
      },
      "file_extension": ".py",
      "mimetype": "text/x-python",
      "name": "python",
      "nbconvert_exporter": "python",
      "pygments_lexer": "ipython3",
      "version": "3.6.8"
    },
    "colab": {
      "name": "Kopia notatnika Lista8.ipynb",
      "provenance": [],
      "collapsed_sections": []
    }
  },
  "cells": [
    {
      "cell_type": "markdown",
      "metadata": {
        "id": "aKxcX8gukrKp"
      },
      "source": [
        "# Lista 8 (4pkt.+5pkt.) Termin: 14.01.2020r."
      ]
    },
    {
      "cell_type": "code",
      "metadata": {
        "colab": {
          "base_uri": "https://localhost:8080/"
        },
        "id": "0A7wEhE1krKu",
        "outputId": "767b19db-7cc7-40e5-b79a-330099499797"
      },
      "source": [
        "import numpy as np\r\n",
        "import random"
      ],
      "execution_count": null,
      "outputs": [
        {
          "output_type": "stream",
          "text": [
            "Drive already mounted at /content/drive/; to attempt to forcibly remount, call drive.mount(\"/content/drive/\", force_remount=True).\n"
          ],
          "name": "stdout"
        }
      ]
    },
    {
      "cell_type": "markdown",
      "metadata": {
        "id": "MUJlH3CNkrKv"
      },
      "source": [
        "## Zadanie 1 (2 pkt.)"
      ]
    },
    {
      "cell_type": "markdown",
      "metadata": {
        "id": "qPub3V1gkrKv"
      },
      "source": [
        "Alicja i Bob ustalają publicznie grupę $Z_p$ w której będą działać oraz element z tej grupy $g$."
      ]
    },
    {
      "cell_type": "code",
      "metadata": {
        "id": "1LeWHxuZkrKv"
      },
      "source": [
        "g=5\n",
        "p=23\n",
        "\n",
        "def pow_mod(x,n,m):\n",
        "    p = 1\n",
        "    nbin = bin(n)[2:]\n",
        "    for bit in nbin:\n",
        "      p = (p**2)%m\n",
        "      if (bit == '1'):\n",
        "        p = (p*x)%m\n",
        "    return p"
      ],
      "execution_count": null,
      "outputs": []
    },
    {
      "cell_type": "markdown",
      "metadata": {
        "id": "3PwBtq5JkrKw"
      },
      "source": [
        "Alicja wybiera losowy element $a$ grupy $Z_p$, taki, że $1<a<p$:"
      ]
    },
    {
      "cell_type": "code",
      "metadata": {
        "id": "O2ugi6RPkrKw"
      },
      "source": [
        "a=random.randint(2, p-1)"
      ],
      "execution_count": null,
      "outputs": []
    },
    {
      "cell_type": "markdown",
      "metadata": {
        "id": "SgpG3FKJkrKw"
      },
      "source": [
        "Następnie oblicza $A=g^a$ w grupie $Z_p$, czyli $A=g^a\\mod\\ p$:"
      ]
    },
    {
      "cell_type": "code",
      "metadata": {
        "id": "AxFzkjKukrKw"
      },
      "source": [
        "A=pow_mod(g,a,p)"
      ],
      "execution_count": null,
      "outputs": []
    },
    {
      "cell_type": "markdown",
      "metadata": {
        "id": "OI7AlD3-krKw"
      },
      "source": [
        "To samo robi Bob, wybiera losowy elemnt grupy $b$ i oblicza $B=g^b$:"
      ]
    },
    {
      "cell_type": "code",
      "metadata": {
        "id": "jKkaIW0jkrKx"
      },
      "source": [
        "b=random.randint(2,p-1)\n",
        "B=pow_mod(g,b,p)"
      ],
      "execution_count": null,
      "outputs": []
    },
    {
      "cell_type": "markdown",
      "metadata": {
        "id": "FCsnfUyukrKx"
      },
      "source": [
        "Elementy $a$ i $b$ są znane tylko, odpowiednio, Alicji i Bobowi, natomiast $A$ oraz $B$ są wymieniane publicznym kanałem. Bob otrzymuje $A$ i wykonuje operację $k_B=A^b$ (czyli $A^b\\mod\\ p$), z kolei Alicja otrzymuje $B$ i wykonuje operację $k_A=B^a$ (czyli $A^b\\mod\\ p$):"
      ]
    },
    {
      "cell_type": "code",
      "metadata": {
        "id": "XyJUQx5dkrKx",
        "colab": {
          "base_uri": "https://localhost:8080/"
        },
        "outputId": "8e70997e-4440-40b8-b3e1-7d5e60b189f8"
      },
      "source": [
        "k_B=pow_mod(A,b,p)\n",
        "k_A=pow_mod(B,a,p)\n",
        "print(k_A, k_B)"
      ],
      "execution_count": null,
      "outputs": [
        {
          "output_type": "stream",
          "text": [
            "1 1\n"
          ],
          "name": "stdout"
        }
      ]
    },
    {
      "cell_type": "markdown",
      "metadata": {
        "id": "1CwifHeTkrKx"
      },
      "source": [
        "Zawuażmy, że $k_A=k_B$, wynika to z tego, że $k_A=B^a=(g^b)^a=g^{ab}$ oraz $k_B=A^b=(g^a)^b=g^{ba}$ a oczywiście $ab=ba$. Zatem Alicja i Bob dysponują tą samą liczbą, którą mogą użyć jako klucz do szyfrowania. Publicznie znane są wartości $g$, $p$, $g^a$ oraz $g^b$, jednak odzyskanie z nich $a$ i $b$ jest bardzo trudne przy odpwiednim doborze grupy $Z_p$."
      ]
    },
    {
      "cell_type": "markdown",
      "metadata": {
        "id": "EvZZ0nODkrKx"
      },
      "source": [
        "## Zadanie 2 (2 pkt.)"
      ]
    },
    {
      "cell_type": "markdown",
      "metadata": {
        "id": "jeilGsPLkrKy"
      },
      "source": [
        "Wczytaj dwa obrazki: 'Campin_Boze_Narodzenie1.png' oraz 'Campin_Boze_Narodzenie2.png' jeden z nich jest zgodny z oryginałem obrazu Roberta Campin a drugi jest lekko zmodyfikowany, rozponaj prawdziwy obraz obliczając jego funkcję skrótu SHA-256 i porównując ją do skrótu podanego poniżej (w postaci szesnastkowej), który odpowiada oryginałowi:"
      ]
    },
    {
      "cell_type": "code",
      "metadata": {
        "id": "AzMpXC4FkrKy"
      },
      "source": [
        "hash_original='2d08246bbb3a8f6b0c16b8d8effd2c783233a6a174496731dfff887bb41bc7e7'"
      ],
      "execution_count": null,
      "outputs": []
    },
    {
      "cell_type": "markdown",
      "metadata": {
        "id": "pEdx7OQlkrKy"
      },
      "source": [
        "Obrazek wczytaj za pomocą:"
      ]
    },
    {
      "cell_type": "code",
      "metadata": {
        "id": "r3OGNJZzkrKy"
      },
      "source": [
        "file = open('Campin_Boze_Narodzenie1.png','rb')\n",
        "obraz1=file.read()\n",
        "file.close()\n",
        "file = open('Campin_Boze_Narodzenie2.png' ,'rb')\n",
        "obraz2 = file.read()\n",
        "file.close()"
      ],
      "execution_count": null,
      "outputs": []
    },
    {
      "cell_type": "markdown",
      "metadata": {
        "id": "le-MJuOGkrKy"
      },
      "source": [
        "'rb' w powyższej funkcji oznacza, że odczytujemy binarną postać obrazu. Podobnie wczytaj drugi obraz. Do policzenia funkcji skrótu użyj biblioteki hashlib: https://docs.python.org/3/library/hashlib.html"
      ]
    },
    {
      "cell_type": "code",
      "metadata": {
        "colab": {
          "base_uri": "https://localhost:8080/"
        },
        "id": "7M5tgaEakrKy",
        "outputId": "cace566d-8bdc-48ab-fdc4-c1b920a0f8fe"
      },
      "source": [
        "import hashlib\r\n",
        "\r\n",
        "hash1 = hashlib.sha256(obraz1).hexdigest()\r\n",
        "hash2 = hashlib.sha256(obraz2).hexdigest()\r\n",
        "\r\n",
        "print(hash1 == hash_original)\r\n",
        "print(hash2 == hash_original)"
      ],
      "execution_count": null,
      "outputs": [
        {
          "output_type": "stream",
          "text": [
            "True\n",
            "False\n"
          ],
          "name": "stdout"
        }
      ]
    },
    {
      "cell_type": "markdown",
      "metadata": {
        "id": "nVMUcqWBpH5D"
      },
      "source": [
        "Prawdziwym obrazem jest ten z numerem 1"
      ]
    },
    {
      "cell_type": "markdown",
      "metadata": {
        "id": "IORuQpWIkrKz"
      },
      "source": [
        "## Zadanie 3 * (3 pkt.)"
      ]
    },
    {
      "cell_type": "markdown",
      "metadata": {
        "id": "WmAOym2qkrKz"
      },
      "source": [
        "Na poprzednich listach pojawiała się funckja przesuwająca zadany ciag bitów o daną liczbę miejsc w lewo, np.:"
      ]
    },
    {
      "cell_type": "code",
      "metadata": {
        "id": "ERC2XqVUkrKz"
      },
      "source": [
        "def shift_left(tab,n):\n",
        "    return tab[n:]+tab[:n]"
      ],
      "execution_count": null,
      "outputs": []
    },
    {
      "cell_type": "code",
      "metadata": {
        "colab": {
          "base_uri": "https://localhost:8080/",
          "height": 35
        },
        "id": "dr6czR1vkrKz",
        "outputId": "98580166-125f-4581-ec8b-0165dcce9152"
      },
      "source": [
        "shift_left('11101',2)"
      ],
      "execution_count": null,
      "outputs": [
        {
          "output_type": "execute_result",
          "data": {
            "application/vnd.google.colaboratory.intrinsic+json": {
              "type": "string"
            },
            "text/plain": [
              "'10111'"
            ]
          },
          "metadata": {
            "tags": []
          },
          "execution_count": 14
        }
      ]
    },
    {
      "cell_type": "markdown",
      "metadata": {
        "id": "f4TwtvcCkrK0"
      },
      "source": [
        "Funkcja ta jednak działa na ciągu znaków tekstowych a nie bitach, napisz tą funkcję jeszcze raz tak aby działała na int-ach reprezentujących ciagi bitów:"
      ]
    },
    {
      "cell_type": "code",
      "metadata": {
        "id": "0FPPc4bskrK0"
      },
      "source": [
        "def Shift_left(k,n,n_bits):\n",
        "    return (k << n & pow(2,n_bits)-1)|(k >> (n_bits - n)); "
      ],
      "execution_count": null,
      "outputs": []
    },
    {
      "cell_type": "markdown",
      "metadata": {
        "id": "fQnnIyuRkrK0"
      },
      "source": [
        "tzn. powyższy przykład wyglądałby następująco:"
      ]
    },
    {
      "cell_type": "code",
      "metadata": {
        "colab": {
          "base_uri": "https://localhost:8080/"
        },
        "id": "IIE1aA72krK0",
        "outputId": "67cdeaa6-b74b-4216-cdb5-a0bfad28fe96"
      },
      "source": [
        "print(Shift_left(29,2,5)==23)"
      ],
      "execution_count": null,
      "outputs": [
        {
          "output_type": "stream",
          "text": [
            "True\n"
          ],
          "name": "stdout"
        }
      ]
    },
    {
      "cell_type": "markdown",
      "metadata": {
        "id": "et666i1KkrK1"
      },
      "source": [
        "bo '11101'=29 oraz '10111'=23, natomiast n_bits=5, oznacza, że ciąg bitów ma dlugość 5. W implementacji użyj operatorów takich jak: <<, |, >>, & (https://www.geeksforgeeks.org/python-bitwise-operators/)"
      ]
    },
    {
      "cell_type": "markdown",
      "metadata": {
        "id": "heA3musMkrK1"
      },
      "source": [
        "## Zadanie 4 * (2 pkt.)"
      ]
    },
    {
      "cell_type": "markdown",
      "metadata": {
        "id": "35q9U7_ikrK1"
      },
      "source": [
        "Na wykładzie byla pokazana metoda szybszej deszfyracji w RSA (zmiejszenia wykładnika w potęgowaniu):\n",
        "$$M=(C^{d_q}+hq)\\mod n$$\n",
        "na wykładzie był podany wzór bez $\\mod n$, jednak jest ono potrzebne, n=pq, pozostale oznaczenia jak na wykładzie (notatki na Teamsach), zaimplementuj powyższy wzór."
      ]
    }
  ]
}